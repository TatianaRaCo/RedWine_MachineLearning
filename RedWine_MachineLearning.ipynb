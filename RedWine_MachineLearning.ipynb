{
  "nbformat": 4,
  "nbformat_minor": 0,
  "metadata": {
    "colab": {
      "provenance": []
    },
    "kernelspec": {
      "name": "python3",
      "display_name": "Python 3"
    },
    "language_info": {
      "name": "python"
    }
  },
  "cells": [
    {
      "cell_type": "markdown",
      "source": [
        "## Analise da qualidade do vinho Tinto"
      ],
      "metadata": {
        "id": "gBAcX9VzKnsh"
      }
    },
    {
      "cell_type": "markdown",
      "source": [
        "A qualidade do vinho é um conceito que abrange várias características sensoriais, químicas e subjetivas.\n",
        "\n",
        "Com o uso de técnicas de mineração de dados e aprendizado de máquina, exploraremos dados de diversas amostras, buscando desvendar padrões ocultos que contribuem para a qualidade.\n",
        "\n",
        "O conjunto de dados contém informações sobre as propriedades físico-químicas dos vinhos e está disponível no repositório de aprendizado de máquina do UCI, https://archive.ics.uci.edu/ml/datasets/wine+quality\n",
        "\n",
        "Com base nos testes físico-químicos nossas variáveis ​​de entrada são as seguintes:\n",
        "\n",
        "acidez fixa /  acidez volátil /  açúcar residual / cloretos / dióxido de enxofre livre / dióxido de enxofre total / densidade / ph / sulfatos / alcool.\n",
        "\n",
        "E a váriável de saída é: qualidade.\n",
        "\n",
        "\n"
      ],
      "metadata": {
        "id": "EB5zzEDv58P4"
      }
    },
    {
      "cell_type": "markdown",
      "source": [
        "## Coleta dos Dados"
      ],
      "metadata": {
        "id": "wG72IcfRBDXi"
      }
    },
    {
      "cell_type": "markdown",
      "source": [
        "Carregando as bibliotecas que vamos utilizar:"
      ],
      "metadata": {
        "id": "sER2Jm3vbQpa"
      }
    },
    {
      "cell_type": "code",
      "source": [
        "import pandas as pd\n",
        "import seaborn as sns\n",
        "import matplotlib.pyplot as plt\n",
        "import numpy as np\n"
      ],
      "metadata": {
        "id": "W6K46t8ybbCZ"
      },
      "execution_count": 19,
      "outputs": []
    },
    {
      "cell_type": "code",
      "source": [
        "wine = pd.read_csv('winequality-red.csv', sep=';')"
      ],
      "metadata": {
        "id": "p_8Pfqyzb83n"
      },
      "execution_count": 20,
      "outputs": []
    },
    {
      "cell_type": "code",
      "source": [
        "wine.head()"
      ],
      "metadata": {
        "colab": {
          "base_uri": "https://localhost:8080/",
          "height": 223
        },
        "id": "o6Kz7B_GjvJO",
        "outputId": "56847155-7bce-49e0-a7d0-c3deb45d3c97"
      },
      "execution_count": 21,
      "outputs": [
        {
          "output_type": "execute_result",
          "data": {
            "text/plain": [
              "   fixed acidity  volatile acidity  citric acid  residual sugar  chlorides  \\\n",
              "0            7.4              0.70         0.00             1.9      0.076   \n",
              "1            7.8              0.88         0.00             2.6      0.098   \n",
              "2            7.8              0.76         0.04             2.3      0.092   \n",
              "3           11.2              0.28         0.56             1.9      0.075   \n",
              "4            7.4              0.70         0.00             1.9      0.076   \n",
              "\n",
              "   free sulfur dioxide  total sulfur dioxide  density    pH  sulphates  \\\n",
              "0                 11.0                  34.0   0.9978  3.51       0.56   \n",
              "1                 25.0                  67.0   0.9968  3.20       0.68   \n",
              "2                 15.0                  54.0   0.9970  3.26       0.65   \n",
              "3                 17.0                  60.0   0.9980  3.16       0.58   \n",
              "4                 11.0                  34.0   0.9978  3.51       0.56   \n",
              "\n",
              "   alcohol  quality  \n",
              "0      9.4        5  \n",
              "1      9.8        5  \n",
              "2      9.8        5  \n",
              "3      9.8        6  \n",
              "4      9.4        5  "
            ],
            "text/html": [
              "\n",
              "  <div id=\"df-f62e4f54-147f-4889-ac4b-2d71a789b37f\" class=\"colab-df-container\">\n",
              "    <div>\n",
              "<style scoped>\n",
              "    .dataframe tbody tr th:only-of-type {\n",
              "        vertical-align: middle;\n",
              "    }\n",
              "\n",
              "    .dataframe tbody tr th {\n",
              "        vertical-align: top;\n",
              "    }\n",
              "\n",
              "    .dataframe thead th {\n",
              "        text-align: right;\n",
              "    }\n",
              "</style>\n",
              "<table border=\"1\" class=\"dataframe\">\n",
              "  <thead>\n",
              "    <tr style=\"text-align: right;\">\n",
              "      <th></th>\n",
              "      <th>fixed acidity</th>\n",
              "      <th>volatile acidity</th>\n",
              "      <th>citric acid</th>\n",
              "      <th>residual sugar</th>\n",
              "      <th>chlorides</th>\n",
              "      <th>free sulfur dioxide</th>\n",
              "      <th>total sulfur dioxide</th>\n",
              "      <th>density</th>\n",
              "      <th>pH</th>\n",
              "      <th>sulphates</th>\n",
              "      <th>alcohol</th>\n",
              "      <th>quality</th>\n",
              "    </tr>\n",
              "  </thead>\n",
              "  <tbody>\n",
              "    <tr>\n",
              "      <th>0</th>\n",
              "      <td>7.4</td>\n",
              "      <td>0.70</td>\n",
              "      <td>0.00</td>\n",
              "      <td>1.9</td>\n",
              "      <td>0.076</td>\n",
              "      <td>11.0</td>\n",
              "      <td>34.0</td>\n",
              "      <td>0.9978</td>\n",
              "      <td>3.51</td>\n",
              "      <td>0.56</td>\n",
              "      <td>9.4</td>\n",
              "      <td>5</td>\n",
              "    </tr>\n",
              "    <tr>\n",
              "      <th>1</th>\n",
              "      <td>7.8</td>\n",
              "      <td>0.88</td>\n",
              "      <td>0.00</td>\n",
              "      <td>2.6</td>\n",
              "      <td>0.098</td>\n",
              "      <td>25.0</td>\n",
              "      <td>67.0</td>\n",
              "      <td>0.9968</td>\n",
              "      <td>3.20</td>\n",
              "      <td>0.68</td>\n",
              "      <td>9.8</td>\n",
              "      <td>5</td>\n",
              "    </tr>\n",
              "    <tr>\n",
              "      <th>2</th>\n",
              "      <td>7.8</td>\n",
              "      <td>0.76</td>\n",
              "      <td>0.04</td>\n",
              "      <td>2.3</td>\n",
              "      <td>0.092</td>\n",
              "      <td>15.0</td>\n",
              "      <td>54.0</td>\n",
              "      <td>0.9970</td>\n",
              "      <td>3.26</td>\n",
              "      <td>0.65</td>\n",
              "      <td>9.8</td>\n",
              "      <td>5</td>\n",
              "    </tr>\n",
              "    <tr>\n",
              "      <th>3</th>\n",
              "      <td>11.2</td>\n",
              "      <td>0.28</td>\n",
              "      <td>0.56</td>\n",
              "      <td>1.9</td>\n",
              "      <td>0.075</td>\n",
              "      <td>17.0</td>\n",
              "      <td>60.0</td>\n",
              "      <td>0.9980</td>\n",
              "      <td>3.16</td>\n",
              "      <td>0.58</td>\n",
              "      <td>9.8</td>\n",
              "      <td>6</td>\n",
              "    </tr>\n",
              "    <tr>\n",
              "      <th>4</th>\n",
              "      <td>7.4</td>\n",
              "      <td>0.70</td>\n",
              "      <td>0.00</td>\n",
              "      <td>1.9</td>\n",
              "      <td>0.076</td>\n",
              "      <td>11.0</td>\n",
              "      <td>34.0</td>\n",
              "      <td>0.9978</td>\n",
              "      <td>3.51</td>\n",
              "      <td>0.56</td>\n",
              "      <td>9.4</td>\n",
              "      <td>5</td>\n",
              "    </tr>\n",
              "  </tbody>\n",
              "</table>\n",
              "</div>\n",
              "    <div class=\"colab-df-buttons\">\n",
              "\n",
              "  <div class=\"colab-df-container\">\n",
              "    <button class=\"colab-df-convert\" onclick=\"convertToInteractive('df-f62e4f54-147f-4889-ac4b-2d71a789b37f')\"\n",
              "            title=\"Convert this dataframe to an interactive table.\"\n",
              "            style=\"display:none;\">\n",
              "\n",
              "  <svg xmlns=\"http://www.w3.org/2000/svg\" height=\"24px\" viewBox=\"0 -960 960 960\">\n",
              "    <path d=\"M120-120v-720h720v720H120Zm60-500h600v-160H180v160Zm220 220h160v-160H400v160Zm0 220h160v-160H400v160ZM180-400h160v-160H180v160Zm440 0h160v-160H620v160ZM180-180h160v-160H180v160Zm440 0h160v-160H620v160Z\"/>\n",
              "  </svg>\n",
              "    </button>\n",
              "\n",
              "  <style>\n",
              "    .colab-df-container {\n",
              "      display:flex;\n",
              "      gap: 12px;\n",
              "    }\n",
              "\n",
              "    .colab-df-convert {\n",
              "      background-color: #E8F0FE;\n",
              "      border: none;\n",
              "      border-radius: 50%;\n",
              "      cursor: pointer;\n",
              "      display: none;\n",
              "      fill: #1967D2;\n",
              "      height: 32px;\n",
              "      padding: 0 0 0 0;\n",
              "      width: 32px;\n",
              "    }\n",
              "\n",
              "    .colab-df-convert:hover {\n",
              "      background-color: #E2EBFA;\n",
              "      box-shadow: 0px 1px 2px rgba(60, 64, 67, 0.3), 0px 1px 3px 1px rgba(60, 64, 67, 0.15);\n",
              "      fill: #174EA6;\n",
              "    }\n",
              "\n",
              "    .colab-df-buttons div {\n",
              "      margin-bottom: 4px;\n",
              "    }\n",
              "\n",
              "    [theme=dark] .colab-df-convert {\n",
              "      background-color: #3B4455;\n",
              "      fill: #D2E3FC;\n",
              "    }\n",
              "\n",
              "    [theme=dark] .colab-df-convert:hover {\n",
              "      background-color: #434B5C;\n",
              "      box-shadow: 0px 1px 3px 1px rgba(0, 0, 0, 0.15);\n",
              "      filter: drop-shadow(0px 1px 2px rgba(0, 0, 0, 0.3));\n",
              "      fill: #FFFFFF;\n",
              "    }\n",
              "  </style>\n",
              "\n",
              "    <script>\n",
              "      const buttonEl =\n",
              "        document.querySelector('#df-f62e4f54-147f-4889-ac4b-2d71a789b37f button.colab-df-convert');\n",
              "      buttonEl.style.display =\n",
              "        google.colab.kernel.accessAllowed ? 'block' : 'none';\n",
              "\n",
              "      async function convertToInteractive(key) {\n",
              "        const element = document.querySelector('#df-f62e4f54-147f-4889-ac4b-2d71a789b37f');\n",
              "        const dataTable =\n",
              "          await google.colab.kernel.invokeFunction('convertToInteractive',\n",
              "                                                    [key], {});\n",
              "        if (!dataTable) return;\n",
              "\n",
              "        const docLinkHtml = 'Like what you see? Visit the ' +\n",
              "          '<a target=\"_blank\" href=https://colab.research.google.com/notebooks/data_table.ipynb>data table notebook</a>'\n",
              "          + ' to learn more about interactive tables.';\n",
              "        element.innerHTML = '';\n",
              "        dataTable['output_type'] = 'display_data';\n",
              "        await google.colab.output.renderOutput(dataTable, element);\n",
              "        const docLink = document.createElement('div');\n",
              "        docLink.innerHTML = docLinkHtml;\n",
              "        element.appendChild(docLink);\n",
              "      }\n",
              "    </script>\n",
              "  </div>\n",
              "\n",
              "\n",
              "<div id=\"df-b38cc26f-e442-49e3-8e44-bd1ebeeeafa3\">\n",
              "  <button class=\"colab-df-quickchart\" onclick=\"quickchart('df-b38cc26f-e442-49e3-8e44-bd1ebeeeafa3')\"\n",
              "            title=\"Suggest charts.\"\n",
              "            style=\"display:none;\">\n",
              "\n",
              "<svg xmlns=\"http://www.w3.org/2000/svg\" height=\"24px\"viewBox=\"0 0 24 24\"\n",
              "     width=\"24px\">\n",
              "    <g>\n",
              "        <path d=\"M19 3H5c-1.1 0-2 .9-2 2v14c0 1.1.9 2 2 2h14c1.1 0 2-.9 2-2V5c0-1.1-.9-2-2-2zM9 17H7v-7h2v7zm4 0h-2V7h2v10zm4 0h-2v-4h2v4z\"/>\n",
              "    </g>\n",
              "</svg>\n",
              "  </button>\n",
              "\n",
              "<style>\n",
              "  .colab-df-quickchart {\n",
              "      --bg-color: #E8F0FE;\n",
              "      --fill-color: #1967D2;\n",
              "      --hover-bg-color: #E2EBFA;\n",
              "      --hover-fill-color: #174EA6;\n",
              "      --disabled-fill-color: #AAA;\n",
              "      --disabled-bg-color: #DDD;\n",
              "  }\n",
              "\n",
              "  [theme=dark] .colab-df-quickchart {\n",
              "      --bg-color: #3B4455;\n",
              "      --fill-color: #D2E3FC;\n",
              "      --hover-bg-color: #434B5C;\n",
              "      --hover-fill-color: #FFFFFF;\n",
              "      --disabled-bg-color: #3B4455;\n",
              "      --disabled-fill-color: #666;\n",
              "  }\n",
              "\n",
              "  .colab-df-quickchart {\n",
              "    background-color: var(--bg-color);\n",
              "    border: none;\n",
              "    border-radius: 50%;\n",
              "    cursor: pointer;\n",
              "    display: none;\n",
              "    fill: var(--fill-color);\n",
              "    height: 32px;\n",
              "    padding: 0;\n",
              "    width: 32px;\n",
              "  }\n",
              "\n",
              "  .colab-df-quickchart:hover {\n",
              "    background-color: var(--hover-bg-color);\n",
              "    box-shadow: 0 1px 2px rgba(60, 64, 67, 0.3), 0 1px 3px 1px rgba(60, 64, 67, 0.15);\n",
              "    fill: var(--button-hover-fill-color);\n",
              "  }\n",
              "\n",
              "  .colab-df-quickchart-complete:disabled,\n",
              "  .colab-df-quickchart-complete:disabled:hover {\n",
              "    background-color: var(--disabled-bg-color);\n",
              "    fill: var(--disabled-fill-color);\n",
              "    box-shadow: none;\n",
              "  }\n",
              "\n",
              "  .colab-df-spinner {\n",
              "    border: 2px solid var(--fill-color);\n",
              "    border-color: transparent;\n",
              "    border-bottom-color: var(--fill-color);\n",
              "    animation:\n",
              "      spin 1s steps(1) infinite;\n",
              "  }\n",
              "\n",
              "  @keyframes spin {\n",
              "    0% {\n",
              "      border-color: transparent;\n",
              "      border-bottom-color: var(--fill-color);\n",
              "      border-left-color: var(--fill-color);\n",
              "    }\n",
              "    20% {\n",
              "      border-color: transparent;\n",
              "      border-left-color: var(--fill-color);\n",
              "      border-top-color: var(--fill-color);\n",
              "    }\n",
              "    30% {\n",
              "      border-color: transparent;\n",
              "      border-left-color: var(--fill-color);\n",
              "      border-top-color: var(--fill-color);\n",
              "      border-right-color: var(--fill-color);\n",
              "    }\n",
              "    40% {\n",
              "      border-color: transparent;\n",
              "      border-right-color: var(--fill-color);\n",
              "      border-top-color: var(--fill-color);\n",
              "    }\n",
              "    60% {\n",
              "      border-color: transparent;\n",
              "      border-right-color: var(--fill-color);\n",
              "    }\n",
              "    80% {\n",
              "      border-color: transparent;\n",
              "      border-right-color: var(--fill-color);\n",
              "      border-bottom-color: var(--fill-color);\n",
              "    }\n",
              "    90% {\n",
              "      border-color: transparent;\n",
              "      border-bottom-color: var(--fill-color);\n",
              "    }\n",
              "  }\n",
              "</style>\n",
              "\n",
              "  <script>\n",
              "    async function quickchart(key) {\n",
              "      const quickchartButtonEl =\n",
              "        document.querySelector('#' + key + ' button');\n",
              "      quickchartButtonEl.disabled = true;  // To prevent multiple clicks.\n",
              "      quickchartButtonEl.classList.add('colab-df-spinner');\n",
              "      try {\n",
              "        const charts = await google.colab.kernel.invokeFunction(\n",
              "            'suggestCharts', [key], {});\n",
              "      } catch (error) {\n",
              "        console.error('Error during call to suggestCharts:', error);\n",
              "      }\n",
              "      quickchartButtonEl.classList.remove('colab-df-spinner');\n",
              "      quickchartButtonEl.classList.add('colab-df-quickchart-complete');\n",
              "    }\n",
              "    (() => {\n",
              "      let quickchartButtonEl =\n",
              "        document.querySelector('#df-b38cc26f-e442-49e3-8e44-bd1ebeeeafa3 button');\n",
              "      quickchartButtonEl.style.display =\n",
              "        google.colab.kernel.accessAllowed ? 'block' : 'none';\n",
              "    })();\n",
              "  </script>\n",
              "</div>\n",
              "    </div>\n",
              "  </div>\n"
            ]
          },
          "metadata": {},
          "execution_count": 21
        }
      ]
    },
    {
      "cell_type": "markdown",
      "source": [
        "Verificando informação dos dados:"
      ],
      "metadata": {
        "id": "eNu1r2upXVOg"
      }
    },
    {
      "cell_type": "code",
      "source": [
        "wine.info()"
      ],
      "metadata": {
        "colab": {
          "base_uri": "https://localhost:8080/"
        },
        "id": "9djqUWeCWsNr",
        "outputId": "5080fd9b-36a5-4a2d-86f8-7f5165f34d8e"
      },
      "execution_count": 22,
      "outputs": [
        {
          "output_type": "stream",
          "name": "stdout",
          "text": [
            "<class 'pandas.core.frame.DataFrame'>\n",
            "RangeIndex: 1599 entries, 0 to 1598\n",
            "Data columns (total 12 columns):\n",
            " #   Column                Non-Null Count  Dtype  \n",
            "---  ------                --------------  -----  \n",
            " 0   fixed acidity         1599 non-null   float64\n",
            " 1   volatile acidity      1599 non-null   float64\n",
            " 2   citric acid           1599 non-null   float64\n",
            " 3   residual sugar        1599 non-null   float64\n",
            " 4   chlorides             1599 non-null   float64\n",
            " 5   free sulfur dioxide   1599 non-null   float64\n",
            " 6   total sulfur dioxide  1599 non-null   float64\n",
            " 7   density               1599 non-null   float64\n",
            " 8   pH                    1599 non-null   float64\n",
            " 9   sulphates             1599 non-null   float64\n",
            " 10  alcohol               1599 non-null   float64\n",
            " 11  quality               1599 non-null   int64  \n",
            "dtypes: float64(11), int64(1)\n",
            "memory usage: 150.0 KB\n"
          ]
        }
      ]
    },
    {
      "cell_type": "markdown",
      "source": [
        "Podemos observar que temos apenas dados numéricos: flutuantes (float) e inteiros (int). Também que não há dados faltantes já que totas as colunas estão com 1599 entradas."
      ],
      "metadata": {
        "id": "uLkpy6WhL6vr"
      }
    },
    {
      "cell_type": "markdown",
      "source": [
        "## Relação da Qualidade dos Vinhos\n",
        "\n",
        "A qualidade dos vinhos é medida de 0 a 10 onde quanto maior, melhor é o vinho.\n",
        "\n",
        "Vamos verificar a qualidade dos vinhos que temos:"
      ],
      "metadata": {
        "id": "ZVeU56E1c5kR"
      }
    },
    {
      "cell_type": "code",
      "source": [
        "wine_val_unicos = wine['quality'].unique()\n",
        "print (wine_val_unicos)"
      ],
      "metadata": {
        "colab": {
          "base_uri": "https://localhost:8080/"
        },
        "id": "VwZYWkBVbhy5",
        "outputId": "529d538c-e916-4f02-ad53-b2f5899e3d11"
      },
      "execution_count": 23,
      "outputs": [
        {
          "output_type": "stream",
          "name": "stdout",
          "text": [
            "[5 6 7 4 8 3]\n"
          ]
        }
      ]
    },
    {
      "cell_type": "markdown",
      "source": [
        "E a quantidade de vinhos de acordo com a qualidade"
      ],
      "metadata": {
        "id": "c_TjmxpSd7g6"
      }
    },
    {
      "cell_type": "code",
      "source": [
        "wine_val_quant = wine['quality'].value_counts()\n",
        "print (wine_val_quant)"
      ],
      "metadata": {
        "colab": {
          "base_uri": "https://localhost:8080/"
        },
        "id": "Nq_3mjAYcbZ4",
        "outputId": "33d1812b-cd8c-49a9-de0d-704c6c8720f5"
      },
      "execution_count": 24,
      "outputs": [
        {
          "output_type": "stream",
          "name": "stdout",
          "text": [
            "5    681\n",
            "6    638\n",
            "7    199\n",
            "4     53\n",
            "8     18\n",
            "3     10\n",
            "Name: quality, dtype: int64\n"
          ]
        }
      ]
    },
    {
      "cell_type": "code",
      "source": [
        "quality = wine[\"quality\"].value_counts().sort_index(ascending=True)\n",
        "explode_list = [0.1, 0.1, 0, 0, 0, 0.2]\n",
        "ax = quality.plot(kind='pie',\n",
        "             figsize = (5,5),\n",
        "             autopct='%1.1f%%',\n",
        "             startangle=45,\n",
        "             labels=None,\n",
        "             pctdistance=1.1,\n",
        "             explode=explode_list,\n",
        "             textprops={'fontsize': 6})\n",
        "ax.patch.set_facecolor('white')\n",
        "plt.title('Wine Quality', size = 10)\n",
        "ax.set(ylabel=None)\n",
        "plt.axis('equal')\n",
        "plt.legend(labels=quality.index, loc=\"upper left\", fontsize=10);"
      ],
      "metadata": {
        "colab": {
          "base_uri": "https://localhost:8080/",
          "height": 441
        },
        "id": "9K-ONgIFfB2d",
        "outputId": "b03fe8d4-02c4-4bd4-88f4-3465758b3bfc"
      },
      "execution_count": 25,
      "outputs": [
        {
          "output_type": "display_data",
          "data": {
            "text/plain": [
              "<Figure size 500x500 with 1 Axes>"
            ],
            "image/png": "[encoded data removed]"
          },
          "metadata": {}
        }
      ]
    },
    {
      "cell_type": "markdown",
      "source": [
        "Podemos perceber que a maior quantidade de vinhos está entre os valores 5 e 7, ou seja, relativamente bons vinhos.\n"
      ],
      "metadata": {
        "id": "4HF4_DF9f1Oc"
      }
    },
    {
      "cell_type": "markdown",
      "source": [
        "Vamos Analisar a qualidade do vinho (variável dependente) em relação a todas as outras variáveis independentes, utilizando um gráfico de dispersão (scatter plot) para visualizar a relação entre a qualidade do vinho e cada uma das outras variáveis."
      ],
      "metadata": {
        "id": "2EpPDq9PgIPn"
      }
    },
    {
      "cell_type": "markdown",
      "source": [
        "Criaremos um mapa de calor da matriz de correlação para fornecer uma representação gráfica das relações entre as diferentes variáveis:"
      ],
      "metadata": {
        "id": "JHGb05RViF1I"
      }
    },
    {
      "cell_type": "code",
      "source": [
        "# Calculate the correlation matrix\n",
        "correlation_matrix = wine.corr()\n",
        "\n",
        "# Create a heatmap of the correlation matrix\n",
        "plt.figure(figsize=(8, 6))\n",
        "sns.heatmap(correlation_matrix, annot=True, cmap='coolwarm', linewidths=0.5, fmt=\".2f\",\n",
        "            annot_kws={\"size\": 8})\n",
        "plt.title('Correlation Matrix Heatmap')\n",
        "# Ajuste o tamanho da fonte dos rótulos nos eixos x e y\n",
        "plt.xticks(fontsize=9)\n",
        "plt.yticks(fontsize=9)\n",
        "plt.show()\n",
        "\n"
      ],
      "metadata": {
        "colab": {
          "base_uri": "https://localhost:8080/",
          "height": 648
        },
        "id": "klr2_Lv7jDBw",
        "outputId": "20375fe0-ca81-432d-d425-245e33dccdfb"
      },
      "execution_count": 26,
      "outputs": [
        {
          "output_type": "display_data",
          "data": {
            "text/plain": [
              "<Figure size 800x600 with 2 Axes>"
            ],
            "image/png": "[encoded data removed]"
          },
          "metadata": {}
        }
      ]
    },
    {
      "cell_type": "markdown",
      "source": [
        "Podemos estabelecer que o alcool tem a maior correlação com a qualidade do vinho, seguido de acidez volátil, sulfatos e ácido cítrico.\n",
        "\n",
        "Para avaliar melhor cada característica e como elas influenciam nessa qualidade vamos dividí-los em: ruim, bom e excelente.\n",
        "\n",
        "A coluna quality será substituída por 'ruim' para vinhos com qualidade 3 e 4, 'bom' para vinhos com qualidade 5 e 6, e 'excelente' para vinhos com qualidade 7 e 8."
      ],
      "metadata": {
        "id": "nv6xz9sLR0Ow"
      }
    },
    {
      "cell_type": "code",
      "source": [
        "bins = [3, 5, 7, 9]\n",
        "labels = ['ruim', 'bom', 'excelente']\n",
        "# Use pd.cut para separar\n",
        "wine['quality'] = pd.cut(wine['quality'], bins=bins, labels=labels, right=False)\n",
        "wine['quality'].value_counts()"
      ],
      "metadata": {
        "colab": {
          "base_uri": "https://localhost:8080/"
        },
        "id": "U5QiurqITWfl",
        "outputId": "27b904ed-2243-4bb0-e1ed-6debef8f4c34"
      },
      "execution_count": 27,
      "outputs": [
        {
          "output_type": "execute_result",
          "data": {
            "text/plain": [
              "bom          1319\n",
              "excelente     217\n",
              "ruim           63\n",
              "Name: quality, dtype: int64"
            ]
          },
          "metadata": {},
          "execution_count": 27
        }
      ]
    },
    {
      "cell_type": "markdown",
      "source": [
        "Analizaremos as diferenças das características em relação a qualidade dos vinhos:"
      ],
      "metadata": {
        "id": "CaoHrhCsPvRU"
      }
    },
    {
      "cell_type": "code",
      "source": [
        "wine.query(\"quality == 'ruim'\").describe().T"
      ],
      "metadata": {
        "colab": {
          "base_uri": "https://localhost:8080/",
          "height": 394
        },
        "id": "F8YwJKH2ObU0",
        "outputId": "4da58826-9596-4f06-8886-107c26141918"
      },
      "execution_count": 28,
      "outputs": [
        {
          "output_type": "execute_result",
          "data": {
            "text/plain": [
              "                      count       mean        std     min        25%      50%  \\\n",
              "fixed acidity          63.0   7.871429   1.649284  4.6000   6.800000   7.5000   \n",
              "volatile acidity       63.0   0.724206   0.247970  0.2300   0.565000   0.6800   \n",
              "citric acid            63.0   0.173651   0.207406  0.0000   0.020000   0.0800   \n",
              "residual sugar         63.0   2.684921   1.723735  1.2000   1.900000   2.1000   \n",
              "chlorides              63.0   0.095730   0.075121  0.0450   0.068500   0.0800   \n",
              "free sulfur dioxide    63.0  12.063492   9.076508  3.0000   5.000000   9.0000   \n",
              "total sulfur dioxide   63.0  34.444444  26.395123  7.0000  13.500000  26.0000   \n",
              "density                63.0   0.996689   0.001667  0.9934   0.995655   0.9966   \n",
              "pH                     63.0   3.384127   0.175100  2.7400   3.300000   3.3800   \n",
              "sulphates              63.0   0.592222   0.224323  0.3300   0.495000   0.5600   \n",
              "alcohol                63.0  10.215873   0.918178  8.4000   9.600000  10.0000   \n",
              "\n",
              "                          75%      max  \n",
              "fixed acidity          8.4000   12.500  \n",
              "volatile acidity       0.8825    1.580  \n",
              "citric acid            0.2700    1.000  \n",
              "residual sugar         2.9500   12.900  \n",
              "chlorides              0.0945    0.610  \n",
              "free sulfur dioxide   15.5000   41.000  \n",
              "total sulfur dioxide  48.0000  119.000  \n",
              "density                0.9977    1.001  \n",
              "pH                     3.5000    3.900  \n",
              "sulphates              0.6000    2.000  \n",
              "alcohol               11.0000   13.100  "
            ],
            "text/html": [
              "\n",
              "  <div id=\"df-92b4ef92-84fd-4173-a14d-128b24566479\" class=\"colab-df-container\">\n",
              "    <div>\n",
              "<style scoped>\n",
              "    .dataframe tbody tr th:only-of-type {\n",
              "        vertical-align: middle;\n",
              "    }\n",
              "\n",
              "    .dataframe tbody tr th {\n",
              "        vertical-align: top;\n",
              "    }\n",
              "\n",
              "    .dataframe thead th {\n",
              "        text-align: right;\n",
              "    }\n",
              "</style>\n",
              "<table border=\"1\" class=\"dataframe\">\n",
              "  <thead>\n",
              "    <tr style=\"text-align: right;\">\n",
              "      <th></th>\n",
              "      <th>count</th>\n",
              "      <th>mean</th>\n",
              "      <th>std</th>\n",
              "      <th>min</th>\n",
              "      <th>25%</th>\n",
              "      <th>50%</th>\n",
              "      <th>75%</th>\n",
              "      <th>max</th>\n",
              "    </tr>\n",
              "  </thead>\n",
              "  <tbody>\n",
              "    <tr>\n",
              "      <th>fixed acidity</th>\n",
              "      <td>63.0</td>\n",
              "      <td>7.871429</td>\n",
              "      <td>1.649284</td>\n",
              "      <td>4.6000</td>\n",
              "      <td>6.800000</td>\n",
              "      <td>7.5000</td>\n",
              "      <td>8.4000</td>\n",
              "      <td>12.500</td>\n",
              "    </tr>\n",
              "    <tr>\n",
              "      <th>volatile acidity</th>\n",
              "      <td>63.0</td>\n",
              "      <td>0.724206</td>\n",
              "      <td>0.247970</td>\n",
              "      <td>0.2300</td>\n",
              "      <td>0.565000</td>\n",
              "      <td>0.6800</td>\n",
              "      <td>0.8825</td>\n",
              "      <td>1.580</td>\n",
              "    </tr>\n",
              "    <tr>\n",
              "      <th>citric acid</th>\n",
              "      <td>63.0</td>\n",
              "      <td>0.173651</td>\n",
              "      <td>0.207406</td>\n",
              "      <td>0.0000</td>\n",
              "      <td>0.020000</td>\n",
              "      <td>0.0800</td>\n",
              "      <td>0.2700</td>\n",
              "      <td>1.000</td>\n",
              "    </tr>\n",
              "    <tr>\n",
              "      <th>residual sugar</th>\n",
              "      <td>63.0</td>\n",
              "      <td>2.684921</td>\n",
              "      <td>1.723735</td>\n",
              "      <td>1.2000</td>\n",
              "      <td>1.900000</td>\n",
              "      <td>2.1000</td>\n",
              "      <td>2.9500</td>\n",
              "      <td>12.900</td>\n",
              "    </tr>\n",
              "    <tr>\n",
              "      <th>chlorides</th>\n",
              "      <td>63.0</td>\n",
              "      <td>0.095730</td>\n",
              "      <td>0.075121</td>\n",
              "      <td>0.0450</td>\n",
              "      <td>0.068500</td>\n",
              "      <td>0.0800</td>\n",
              "      <td>0.0945</td>\n",
              "      <td>0.610</td>\n",
              "    </tr>\n",
              "    <tr>\n",
              "      <th>free sulfur dioxide</th>\n",
              "      <td>63.0</td>\n",
              "      <td>12.063492</td>\n",
              "      <td>9.076508</td>\n",
              "      <td>3.0000</td>\n",
              "      <td>5.000000</td>\n",
              "      <td>9.0000</td>\n",
              "      <td>15.5000</td>\n",
              "      <td>41.000</td>\n",
              "    </tr>\n",
              "    <tr>\n",
              "      <th>total sulfur dioxide</th>\n",
              "      <td>63.0</td>\n",
              "      <td>34.444444</td>\n",
              "      <td>26.395123</td>\n",
              "      <td>7.0000</td>\n",
              "      <td>13.500000</td>\n",
              "      <td>26.0000</td>\n",
              "      <td>48.0000</td>\n",
              "      <td>119.000</td>\n",
              "    </tr>\n",
              "    <tr>\n",
              "      <th>density</th>\n",
              "      <td>63.0</td>\n",
              "      <td>0.996689</td>\n",
              "      <td>0.001667</td>\n",
              "      <td>0.9934</td>\n",
              "      <td>0.995655</td>\n",
              "      <td>0.9966</td>\n",
              "      <td>0.9977</td>\n",
              "      <td>1.001</td>\n",
              "    </tr>\n",
              "    <tr>\n",
              "      <th>pH</th>\n",
              "      <td>63.0</td>\n",
              "      <td>3.384127</td>\n",
              "      <td>0.175100</td>\n",
              "      <td>2.7400</td>\n",
              "      <td>3.300000</td>\n",
              "      <td>3.3800</td>\n",
              "      <td>3.5000</td>\n",
              "      <td>3.900</td>\n",
              "    </tr>\n",
              "    <tr>\n",
              "      <th>sulphates</th>\n",
              "      <td>63.0</td>\n",
              "      <td>0.592222</td>\n",
              "      <td>0.224323</td>\n",
              "      <td>0.3300</td>\n",
              "      <td>0.495000</td>\n",
              "      <td>0.5600</td>\n",
              "      <td>0.6000</td>\n",
              "      <td>2.000</td>\n",
              "    </tr>\n",
              "    <tr>\n",
              "      <th>alcohol</th>\n",
              "      <td>63.0</td>\n",
              "      <td>10.215873</td>\n",
              "      <td>0.918178</td>\n",
              "      <td>8.4000</td>\n",
              "      <td>9.600000</td>\n",
              "      <td>10.0000</td>\n",
              "      <td>11.0000</td>\n",
              "      <td>13.100</td>\n",
              "    </tr>\n",
              "  </tbody>\n",
              "</table>\n",
              "</div>\n",
              "    <div class=\"colab-df-buttons\">\n",
              "\n",
              "  <div class=\"colab-df-container\">\n",
              "    <button class=\"colab-df-convert\" onclick=\"convertToInteractive('df-92b4ef92-84fd-4173-a14d-128b24566479')\"\n",
              "            title=\"Convert this dataframe to an interactive table.\"\n",
              "            style=\"display:none;\">\n",
              "\n",
              "  <svg xmlns=\"http://www.w3.org/2000/svg\" height=\"24px\" viewBox=\"0 -960 960 960\">\n",
              "    <path d=\"M120-120v-720h720v720H120Zm60-500h600v-160H180v160Zm220 220h160v-160H400v160Zm0 220h160v-160H400v160ZM180-400h160v-160H180v160Zm440 0h160v-160H620v160ZM180-180h160v-160H180v160Zm440 0h160v-160H620v160Z\"/>\n",
              "  </svg>\n",
              "    </button>\n",
              "\n",
              "  <style>\n",
              "    .colab-df-container {\n",
              "      display:flex;\n",
              "      gap: 12px;\n",
              "    }\n",
              "\n",
              "    .colab-df-convert {\n",
              "      background-color: #E8F0FE;\n",
              "      border: none;\n",
              "      border-radius: 50%;\n",
              "      cursor: pointer;\n",
              "      display: none;\n",
              "      fill: #1967D2;\n",
              "      height: 32px;\n",
              "      padding: 0 0 0 0;\n",
              "      width: 32px;\n",
              "    }\n",
              "\n",
              "    .colab-df-convert:hover {\n",
              "      background-color: #E2EBFA;\n",
              "      box-shadow: 0px 1px 2px rgba(60, 64, 67, 0.3), 0px 1px 3px 1px rgba(60, 64, 67, 0.15);\n",
              "      fill: #174EA6;\n",
              "    }\n",
              "\n",
              "    .colab-df-buttons div {\n",
              "      margin-bottom: 4px;\n",
              "    }\n",
              "\n",
              "    [theme=dark] .colab-df-convert {\n",
              "      background-color: #3B4455;\n",
              "      fill: #D2E3FC;\n",
              "    }\n",
              "\n",
              "    [theme=dark] .colab-df-convert:hover {\n",
              "      background-color: #434B5C;\n",
              "      box-shadow: 0px 1px 3px 1px rgba(0, 0, 0, 0.15);\n",
              "      filter: drop-shadow(0px 1px 2px rgba(0, 0, 0, 0.3));\n",
              "      fill: #FFFFFF;\n",
              "    }\n",
              "  </style>\n",
              "\n",
              "    <script>\n",
              "      const buttonEl =\n",
              "        document.querySelector('#df-92b4ef92-84fd-4173-a14d-128b24566479 button.colab-df-convert');\n",
              "      buttonEl.style.display =\n",
              "        google.colab.kernel.accessAllowed ? 'block' : 'none';\n",
              "\n",
              "      async function convertToInteractive(key) {\n",
              "        const element = document.querySelector('#df-92b4ef92-84fd-4173-a14d-128b24566479');\n",
              "        const dataTable =\n",
              "          await google.colab.kernel.invokeFunction('convertToInteractive',\n",
              "                                                    [key], {});\n",
              "        if (!dataTable) return;\n",
              "\n",
              "        const docLinkHtml = 'Like what you see? Visit the ' +\n",
              "          '<a target=\"_blank\" href=https://colab.research.google.com/notebooks/data_table.ipynb>data table notebook</a>'\n",
              "          + ' to learn more about interactive tables.';\n",
              "        element.innerHTML = '';\n",
              "        dataTable['output_type'] = 'display_data';\n",
              "        await google.colab.output.renderOutput(dataTable, element);\n",
              "        const docLink = document.createElement('div');\n",
              "        docLink.innerHTML = docLinkHtml;\n",
              "        element.appendChild(docLink);\n",
              "      }\n",
              "    </script>\n",
              "  </div>\n",
              "\n",
              "\n",
              "<div id=\"df-85350845-718a-458a-96c6-4bc34f28f514\">\n",
              "  <button class=\"colab-df-quickchart\" onclick=\"quickchart('df-85350845-718a-458a-96c6-4bc34f28f514')\"\n",
              "            title=\"Suggest charts.\"\n",
              "            style=\"display:none;\">\n",
              "\n",
              "<svg xmlns=\"http://www.w3.org/2000/svg\" height=\"24px\"viewBox=\"0 0 24 24\"\n",
              "     width=\"24px\">\n",
              "    <g>\n",
              "        <path d=\"M19 3H5c-1.1 0-2 .9-2 2v14c0 1.1.9 2 2 2h14c1.1 0 2-.9 2-2V5c0-1.1-.9-2-2-2zM9 17H7v-7h2v7zm4 0h-2V7h2v10zm4 0h-2v-4h2v4z\"/>\n",
              "    </g>\n",
              "</svg>\n",
              "  </button>\n",
              "\n",
              "<style>\n",
              "  .colab-df-quickchart {\n",
              "      --bg-color: #E8F0FE;\n",
              "      --fill-color: #1967D2;\n",
              "      --hover-bg-color: #E2EBFA;\n",
              "      --hover-fill-color: #174EA6;\n",
              "      --disabled-fill-color: #AAA;\n",
              "      --disabled-bg-color: #DDD;\n",
              "  }\n",
              "\n",
              "  [theme=dark] .colab-df-quickchart {\n",
              "      --bg-color: #3B4455;\n",
              "      --fill-color: #D2E3FC;\n",
              "      --hover-bg-color: #434B5C;\n",
              "      --hover-fill-color: #FFFFFF;\n",
              "      --disabled-bg-color: #3B4455;\n",
              "      --disabled-fill-color: #666;\n",
              "  }\n",
              "\n",
              "  .colab-df-quickchart {\n",
              "    background-color: var(--bg-color);\n",
              "    border: none;\n",
              "    border-radius: 50%;\n",
              "    cursor: pointer;\n",
              "    display: none;\n",
              "    fill: var(--fill-color);\n",
              "    height: 32px;\n",
              "    padding: 0;\n",
              "    width: 32px;\n",
              "  }\n",
              "\n",
              "  .colab-df-quickchart:hover {\n",
              "    background-color: var(--hover-bg-color);\n",
              "    box-shadow: 0 1px 2px rgba(60, 64, 67, 0.3), 0 1px 3px 1px rgba(60, 64, 67, 0.15);\n",
              "    fill: var(--button-hover-fill-color);\n",
              "  }\n",
              "\n",
              "  .colab-df-quickchart-complete:disabled,\n",
              "  .colab-df-quickchart-complete:disabled:hover {\n",
              "    background-color: var(--disabled-bg-color);\n",
              "    fill: var(--disabled-fill-color);\n",
              "    box-shadow: none;\n",
              "  }\n",
              "\n",
              "  .colab-df-spinner {\n",
              "    border: 2px solid var(--fill-color);\n",
              "    border-color: transparent;\n",
              "    border-bottom-color: var(--fill-color);\n",
              "    animation:\n",
              "      spin 1s steps(1) infinite;\n",
              "  }\n",
              "\n",
              "  @keyframes spin {\n",
              "    0% {\n",
              "      border-color: transparent;\n",
              "      border-bottom-color: var(--fill-color);\n",
              "      border-left-color: var(--fill-color);\n",
              "    }\n",
              "    20% {\n",
              "      border-color: transparent;\n",
              "      border-left-color: var(--fill-color);\n",
              "      border-top-color: var(--fill-color);\n",
              "    }\n",
              "    30% {\n",
              "      border-color: transparent;\n",
              "      border-left-color: var(--fill-color);\n",
              "      border-top-color: var(--fill-color);\n",
              "      border-right-color: var(--fill-color);\n",
              "    }\n",
              "    40% {\n",
              "      border-color: transparent;\n",
              "      border-right-color: var(--fill-color);\n",
              "      border-top-color: var(--fill-color);\n",
              "    }\n",
              "    60% {\n",
              "      border-color: transparent;\n",
              "      border-right-color: var(--fill-color);\n",
              "    }\n",
              "    80% {\n",
              "      border-color: transparent;\n",
              "      border-right-color: var(--fill-color);\n",
              "      border-bottom-color: var(--fill-color);\n",
              "    }\n",
              "    90% {\n",
              "      border-color: transparent;\n",
              "      border-bottom-color: var(--fill-color);\n",
              "    }\n",
              "  }\n",
              "</style>\n",
              "\n",
              "  <script>\n",
              "    async function quickchart(key) {\n",
              "      const quickchartButtonEl =\n",
              "        document.querySelector('#' + key + ' button');\n",
              "      quickchartButtonEl.disabled = true;  // To prevent multiple clicks.\n",
              "      quickchartButtonEl.classList.add('colab-df-spinner');\n",
              "      try {\n",
              "        const charts = await google.colab.kernel.invokeFunction(\n",
              "            'suggestCharts', [key], {});\n",
              "      } catch (error) {\n",
              "        console.error('Error during call to suggestCharts:', error);\n",
              "      }\n",
              "      quickchartButtonEl.classList.remove('colab-df-spinner');\n",
              "      quickchartButtonEl.classList.add('colab-df-quickchart-complete');\n",
              "    }\n",
              "    (() => {\n",
              "      let quickchartButtonEl =\n",
              "        document.querySelector('#df-85350845-718a-458a-96c6-4bc34f28f514 button');\n",
              "      quickchartButtonEl.style.display =\n",
              "        google.colab.kernel.accessAllowed ? 'block' : 'none';\n",
              "    })();\n",
              "  </script>\n",
              "</div>\n",
              "    </div>\n",
              "  </div>\n"
            ]
          },
          "metadata": {},
          "execution_count": 28
        }
      ]
    },
    {
      "cell_type": "code",
      "source": [
        "wine.query(\"quality == 'bom'\").describe().T"
      ],
      "metadata": {
        "colab": {
          "base_uri": "https://localhost:8080/",
          "height": 394
        },
        "id": "aBHFT-g5PK2Q",
        "outputId": "512ca22b-7644-4d0d-c862-27a23d3f889c"
      },
      "execution_count": 29,
      "outputs": [
        {
          "output_type": "execute_result",
          "data": {
            "text/plain": [
              "                       count       mean        std      min      25%      50%  \\\n",
              "fixed acidity         1319.0   8.254284   1.682935  4.70000   7.1000   7.8000   \n",
              "volatile acidity      1319.0   0.538560   0.167679  0.16000   0.4100   0.5400   \n",
              "citric acid           1319.0   0.258264   0.187995  0.00000   0.0900   0.2400   \n",
              "residual sugar        1319.0   2.503867   1.399633  0.90000   1.9000   2.2000   \n",
              "chlorides             1319.0   0.088973   0.047538  0.03400   0.0710   0.0800   \n",
              "free sulfur dioxide   1319.0  16.368461  10.492335  1.00000   8.0000  14.0000   \n",
              "total sulfur dioxide  1319.0  48.946929  32.714030  6.00000  24.0000  40.0000   \n",
              "density               1319.0   0.996867   0.001815  0.99007   0.9958   0.9968   \n",
              "pH                    1319.0   3.311296   0.152345  2.86000   3.2100   3.3100   \n",
              "sulphates             1319.0   0.647263   0.167334  0.37000   0.5400   0.6100   \n",
              "alcohol               1319.0  10.252717   0.972354  8.40000   9.5000  10.0000   \n",
              "\n",
              "                          75%        max  \n",
              "fixed acidity          9.1000   15.90000  \n",
              "volatile acidity       0.6400    1.33000  \n",
              "citric acid            0.4000    0.79000  \n",
              "residual sugar         2.6000   15.50000  \n",
              "chlorides              0.0910    0.61100  \n",
              "free sulfur dioxide   22.0000   72.00000  \n",
              "total sulfur dioxide  65.0000  165.00000  \n",
              "density                0.9979    1.00369  \n",
              "pH                     3.4000    4.01000  \n",
              "sulphates              0.7000    1.98000  \n",
              "alcohol               10.9000   14.90000  "
            ],
            "text/html": [
              "\n",
              "  <div id=\"df-04817567-9b60-45fa-9d68-aa7582fd6f17\" class=\"colab-df-container\">\n",
              "    <div>\n",
              "<style scoped>\n",
              "    .dataframe tbody tr th:only-of-type {\n",
              "        vertical-align: middle;\n",
              "    }\n",
              "\n",
              "    .dataframe tbody tr th {\n",
              "        vertical-align: top;\n",
              "    }\n",
              "\n",
              "    .dataframe thead th {\n",
              "        text-align: right;\n",
              "    }\n",
              "</style>\n",
              "<table border=\"1\" class=\"dataframe\">\n",
              "  <thead>\n",
              "    <tr style=\"text-align: right;\">\n",
              "      <th></th>\n",
              "      <th>count</th>\n",
              "      <th>mean</th>\n",
              "      <th>std</th>\n",
              "      <th>min</th>\n",
              "      <th>25%</th>\n",
              "      <th>50%</th>\n",
              "      <th>75%</th>\n",
              "      <th>max</th>\n",
              "    </tr>\n",
              "  </thead>\n",
              "  <tbody>\n",
              "    <tr>\n",
              "      <th>fixed acidity</th>\n",
              "      <td>1319.0</td>\n",
              "      <td>8.254284</td>\n",
              "      <td>1.682935</td>\n",
              "      <td>4.70000</td>\n",
              "      <td>7.1000</td>\n",
              "      <td>7.8000</td>\n",
              "      <td>9.1000</td>\n",
              "      <td>15.90000</td>\n",
              "    </tr>\n",
              "    <tr>\n",
              "      <th>volatile acidity</th>\n",
              "      <td>1319.0</td>\n",
              "      <td>0.538560</td>\n",
              "      <td>0.167679</td>\n",
              "      <td>0.16000</td>\n",
              "      <td>0.4100</td>\n",
              "      <td>0.5400</td>\n",
              "      <td>0.6400</td>\n",
              "      <td>1.33000</td>\n",
              "    </tr>\n",
              "    <tr>\n",
              "      <th>citric acid</th>\n",
              "      <td>1319.0</td>\n",
              "      <td>0.258264</td>\n",
              "      <td>0.187995</td>\n",
              "      <td>0.00000</td>\n",
              "      <td>0.0900</td>\n",
              "      <td>0.2400</td>\n",
              "      <td>0.4000</td>\n",
              "      <td>0.79000</td>\n",
              "    </tr>\n",
              "    <tr>\n",
              "      <th>residual sugar</th>\n",
              "      <td>1319.0</td>\n",
              "      <td>2.503867</td>\n",
              "      <td>1.399633</td>\n",
              "      <td>0.90000</td>\n",
              "      <td>1.9000</td>\n",
              "      <td>2.2000</td>\n",
              "      <td>2.6000</td>\n",
              "      <td>15.50000</td>\n",
              "    </tr>\n",
              "    <tr>\n",
              "      <th>chlorides</th>\n",
              "      <td>1319.0</td>\n",
              "      <td>0.088973</td>\n",
              "      <td>0.047538</td>\n",
              "      <td>0.03400</td>\n",
              "      <td>0.0710</td>\n",
              "      <td>0.0800</td>\n",
              "      <td>0.0910</td>\n",
              "      <td>0.61100</td>\n",
              "    </tr>\n",
              "    <tr>\n",
              "      <th>free sulfur dioxide</th>\n",
              "      <td>1319.0</td>\n",
              "      <td>16.368461</td>\n",
              "      <td>10.492335</td>\n",
              "      <td>1.00000</td>\n",
              "      <td>8.0000</td>\n",
              "      <td>14.0000</td>\n",
              "      <td>22.0000</td>\n",
              "      <td>72.00000</td>\n",
              "    </tr>\n",
              "    <tr>\n",
              "      <th>total sulfur dioxide</th>\n",
              "      <td>1319.0</td>\n",
              "      <td>48.946929</td>\n",
              "      <td>32.714030</td>\n",
              "      <td>6.00000</td>\n",
              "      <td>24.0000</td>\n",
              "      <td>40.0000</td>\n",
              "      <td>65.0000</td>\n",
              "      <td>165.00000</td>\n",
              "    </tr>\n",
              "    <tr>\n",
              "      <th>density</th>\n",
              "      <td>1319.0</td>\n",
              "      <td>0.996867</td>\n",
              "      <td>0.001815</td>\n",
              "      <td>0.99007</td>\n",
              "      <td>0.9958</td>\n",
              "      <td>0.9968</td>\n",
              "      <td>0.9979</td>\n",
              "      <td>1.00369</td>\n",
              "    </tr>\n",
              "    <tr>\n",
              "      <th>pH</th>\n",
              "      <td>1319.0</td>\n",
              "      <td>3.311296</td>\n",
              "      <td>0.152345</td>\n",
              "      <td>2.86000</td>\n",
              "      <td>3.2100</td>\n",
              "      <td>3.3100</td>\n",
              "      <td>3.4000</td>\n",
              "      <td>4.01000</td>\n",
              "    </tr>\n",
              "    <tr>\n",
              "      <th>sulphates</th>\n",
              "      <td>1319.0</td>\n",
              "      <td>0.647263</td>\n",
              "      <td>0.167334</td>\n",
              "      <td>0.37000</td>\n",
              "      <td>0.5400</td>\n",
              "      <td>0.6100</td>\n",
              "      <td>0.7000</td>\n",
              "      <td>1.98000</td>\n",
              "    </tr>\n",
              "    <tr>\n",
              "      <th>alcohol</th>\n",
              "      <td>1319.0</td>\n",
              "      <td>10.252717</td>\n",
              "      <td>0.972354</td>\n",
              "      <td>8.40000</td>\n",
              "      <td>9.5000</td>\n",
              "      <td>10.0000</td>\n",
              "      <td>10.9000</td>\n",
              "      <td>14.90000</td>\n",
              "    </tr>\n",
              "  </tbody>\n",
              "</table>\n",
              "</div>\n",
              "    <div class=\"colab-df-buttons\">\n",
              "\n",
              "  <div class=\"colab-df-container\">\n",
              "    <button class=\"colab-df-convert\" onclick=\"convertToInteractive('df-04817567-9b60-45fa-9d68-aa7582fd6f17')\"\n",
              "            title=\"Convert this dataframe to an interactive table.\"\n",
              "            style=\"display:none;\">\n",
              "\n",
              "  <svg xmlns=\"http://www.w3.org/2000/svg\" height=\"24px\" viewBox=\"0 -960 960 960\">\n",
              "    <path d=\"M120-120v-720h720v720H120Zm60-500h600v-160H180v160Zm220 220h160v-160H400v160Zm0 220h160v-160H400v160ZM180-400h160v-160H180v160Zm440 0h160v-160H620v160ZM180-180h160v-160H180v160Zm440 0h160v-160H620v160Z\"/>\n",
              "  </svg>\n",
              "    </button>\n",
              "\n",
              "  <style>\n",
              "    .colab-df-container {\n",
              "      display:flex;\n",
              "      gap: 12px;\n",
              "    }\n",
              "\n",
              "    .colab-df-convert {\n",
              "      background-color: #E8F0FE;\n",
              "      border: none;\n",
              "      border-radius: 50%;\n",
              "      cursor: pointer;\n",
              "      display: none;\n",
              "      fill: #1967D2;\n",
              "      height: 32px;\n",
              "      padding: 0 0 0 0;\n",
              "      width: 32px;\n",
              "    }\n",
              "\n",
              "    .colab-df-convert:hover {\n",
              "      background-color: #E2EBFA;\n",
              "      box-shadow: 0px 1px 2px rgba(60, 64, 67, 0.3), 0px 1px 3px 1px rgba(60, 64, 67, 0.15);\n",
              "      fill: #174EA6;\n",
              "    }\n",
              "\n",
              "    .colab-df-buttons div {\n",
              "      margin-bottom: 4px;\n",
              "    }\n",
              "\n",
              "    [theme=dark] .colab-df-convert {\n",
              "      background-color: #3B4455;\n",
              "      fill: #D2E3FC;\n",
              "    }\n",
              "\n",
              "    [theme=dark] .colab-df-convert:hover {\n",
              "      background-color: #434B5C;\n",
              "      box-shadow: 0px 1px 3px 1px rgba(0, 0, 0, 0.15);\n",
              "      filter: drop-shadow(0px 1px 2px rgba(0, 0, 0, 0.3));\n",
              "      fill: #FFFFFF;\n",
              "    }\n",
              "  </style>\n",
              "\n",
              "    <script>\n",
              "      const buttonEl =\n",
              "        document.querySelector('#df-04817567-9b60-45fa-9d68-aa7582fd6f17 button.colab-df-convert');\n",
              "      buttonEl.style.display =\n",
              "        google.colab.kernel.accessAllowed ? 'block' : 'none';\n",
              "\n",
              "      async function convertToInteractive(key) {\n",
              "        const element = document.querySelector('#df-04817567-9b60-45fa-9d68-aa7582fd6f17');\n",
              "        const dataTable =\n",
              "          await google.colab.kernel.invokeFunction('convertToInteractive',\n",
              "                                                    [key], {});\n",
              "        if (!dataTable) return;\n",
              "\n",
              "        const docLinkHtml = 'Like what you see? Visit the ' +\n",
              "          '<a target=\"_blank\" href=https://colab.research.google.com/notebooks/data_table.ipynb>data table notebook</a>'\n",
              "          + ' to learn more about interactive tables.';\n",
              "        element.innerHTML = '';\n",
              "        dataTable['output_type'] = 'display_data';\n",
              "        await google.colab.output.renderOutput(dataTable, element);\n",
              "        const docLink = document.createElement('div');\n",
              "        docLink.innerHTML = docLinkHtml;\n",
              "        element.appendChild(docLink);\n",
              "      }\n",
              "    </script>\n",
              "  </div>\n",
              "\n",
              "\n",
              "<div id=\"df-e275fe37-6d08-450e-9a77-6f030af0d25c\">\n",
              "  <button class=\"colab-df-quickchart\" onclick=\"quickchart('df-e275fe37-6d08-450e-9a77-6f030af0d25c')\"\n",
              "            title=\"Suggest charts.\"\n",
              "            style=\"display:none;\">\n",
              "\n",
              "<svg xmlns=\"http://www.w3.org/2000/svg\" height=\"24px\"viewBox=\"0 0 24 24\"\n",
              "     width=\"24px\">\n",
              "    <g>\n",
              "        <path d=\"M19 3H5c-1.1 0-2 .9-2 2v14c0 1.1.9 2 2 2h14c1.1 0 2-.9 2-2V5c0-1.1-.9-2-2-2zM9 17H7v-7h2v7zm4 0h-2V7h2v10zm4 0h-2v-4h2v4z\"/>\n",
              "    </g>\n",
              "</svg>\n",
              "  </button>\n",
              "\n",
              "<style>\n",
              "  .colab-df-quickchart {\n",
              "      --bg-color: #E8F0FE;\n",
              "      --fill-color: #1967D2;\n",
              "      --hover-bg-color: #E2EBFA;\n",
              "      --hover-fill-color: #174EA6;\n",
              "      --disabled-fill-color: #AAA;\n",
              "      --disabled-bg-color: #DDD;\n",
              "  }\n",
              "\n",
              "  [theme=dark] .colab-df-quickchart {\n",
              "      --bg-color: #3B4455;\n",
              "      --fill-color: #D2E3FC;\n",
              "      --hover-bg-color: #434B5C;\n",
              "      --hover-fill-color: #FFFFFF;\n",
              "      --disabled-bg-color: #3B4455;\n",
              "      --disabled-fill-color: #666;\n",
              "  }\n",
              "\n",
              "  .colab-df-quickchart {\n",
              "    background-color: var(--bg-color);\n",
              "    border: none;\n",
              "    border-radius: 50%;\n",
              "    cursor: pointer;\n",
              "    display: none;\n",
              "    fill: var(--fill-color);\n",
              "    height: 32px;\n",
              "    padding: 0;\n",
              "    width: 32px;\n",
              "  }\n",
              "\n",
              "  .colab-df-quickchart:hover {\n",
              "    background-color: var(--hover-bg-color);\n",
              "    box-shadow: 0 1px 2px rgba(60, 64, 67, 0.3), 0 1px 3px 1px rgba(60, 64, 67, 0.15);\n",
              "    fill: var(--button-hover-fill-color);\n",
              "  }\n",
              "\n",
              "  .colab-df-quickchart-complete:disabled,\n",
              "  .colab-df-quickchart-complete:disabled:hover {\n",
              "    background-color: var(--disabled-bg-color);\n",
              "    fill: var(--disabled-fill-color);\n",
              "    box-shadow: none;\n",
              "  }\n",
              "\n",
              "  .colab-df-spinner {\n",
              "    border: 2px solid var(--fill-color);\n",
              "    border-color: transparent;\n",
              "    border-bottom-color: var(--fill-color);\n",
              "    animation:\n",
              "      spin 1s steps(1) infinite;\n",
              "  }\n",
              "\n",
              "  @keyframes spin {\n",
              "    0% {\n",
              "      border-color: transparent;\n",
              "      border-bottom-color: var(--fill-color);\n",
              "      border-left-color: var(--fill-color);\n",
              "    }\n",
              "    20% {\n",
              "      border-color: transparent;\n",
              "      border-left-color: var(--fill-color);\n",
              "      border-top-color: var(--fill-color);\n",
              "    }\n",
              "    30% {\n",
              "      border-color: transparent;\n",
              "      border-left-color: var(--fill-color);\n",
              "      border-top-color: var(--fill-color);\n",
              "      border-right-color: var(--fill-color);\n",
              "    }\n",
              "    40% {\n",
              "      border-color: transparent;\n",
              "      border-right-color: var(--fill-color);\n",
              "      border-top-color: var(--fill-color);\n",
              "    }\n",
              "    60% {\n",
              "      border-color: transparent;\n",
              "      border-right-color: var(--fill-color);\n",
              "    }\n",
              "    80% {\n",
              "      border-color: transparent;\n",
              "      border-right-color: var(--fill-color);\n",
              "      border-bottom-color: var(--fill-color);\n",
              "    }\n",
              "    90% {\n",
              "      border-color: transparent;\n",
              "      border-bottom-color: var(--fill-color);\n",
              "    }\n",
              "  }\n",
              "</style>\n",
              "\n",
              "  <script>\n",
              "    async function quickchart(key) {\n",
              "      const quickchartButtonEl =\n",
              "        document.querySelector('#' + key + ' button');\n",
              "      quickchartButtonEl.disabled = true;  // To prevent multiple clicks.\n",
              "      quickchartButtonEl.classList.add('colab-df-spinner');\n",
              "      try {\n",
              "        const charts = await google.colab.kernel.invokeFunction(\n",
              "            'suggestCharts', [key], {});\n",
              "      } catch (error) {\n",
              "        console.error('Error during call to suggestCharts:', error);\n",
              "      }\n",
              "      quickchartButtonEl.classList.remove('colab-df-spinner');\n",
              "      quickchartButtonEl.classList.add('colab-df-quickchart-complete');\n",
              "    }\n",
              "    (() => {\n",
              "      let quickchartButtonEl =\n",
              "        document.querySelector('#df-e275fe37-6d08-450e-9a77-6f030af0d25c button');\n",
              "      quickchartButtonEl.style.display =\n",
              "        google.colab.kernel.accessAllowed ? 'block' : 'none';\n",
              "    })();\n",
              "  </script>\n",
              "</div>\n",
              "    </div>\n",
              "  </div>\n"
            ]
          },
          "metadata": {},
          "execution_count": 29
        }
      ]
    },
    {
      "cell_type": "code",
      "source": [
        "wine.query(\"quality == 'excelente'\").describe().T"
      ],
      "metadata": {
        "colab": {
          "base_uri": "https://localhost:8080/",
          "height": 394
        },
        "id": "nfLrbjNmP32J",
        "outputId": "7b72f873-fe0a-445e-e598-49f6ac1ce499"
      },
      "execution_count": 30,
      "outputs": [
        {
          "output_type": "execute_result",
          "data": {
            "text/plain": [
              "                      count       mean        std      min      25%       50%  \\\n",
              "fixed acidity         217.0   8.847005   1.999977  4.90000   7.4000   8.70000   \n",
              "volatile acidity      217.0   0.405530   0.144963  0.12000   0.3000   0.37000   \n",
              "citric acid           217.0   0.376498   0.194438  0.00000   0.3000   0.40000   \n",
              "residual sugar        217.0   2.708756   1.363026  1.20000   2.0000   2.30000   \n",
              "chlorides             217.0   0.075912   0.028480  0.01200   0.0620   0.07300   \n",
              "free sulfur dioxide   217.0  13.981567  10.234615  3.00000   6.0000  11.00000   \n",
              "total sulfur dioxide  217.0  34.889401  32.572238  7.00000  17.0000  27.00000   \n",
              "density               217.0   0.996030   0.002201  0.99064   0.9947   0.99572   \n",
              "pH                    217.0   3.288802   0.154478  2.88000   3.2000   3.27000   \n",
              "sulphates             217.0   0.743456   0.134038  0.39000   0.6500   0.74000   \n",
              "alcohol               217.0  11.518049   0.998153  9.20000  10.8000  11.60000   \n",
              "\n",
              "                           75%       max  \n",
              "fixed acidity         10.10000   15.6000  \n",
              "volatile acidity       0.49000    0.9150  \n",
              "citric acid            0.49000    0.7600  \n",
              "residual sugar         2.70000    8.9000  \n",
              "chlorides              0.08500    0.3580  \n",
              "free sulfur dioxide   18.00000   54.0000  \n",
              "total sulfur dioxide  43.00000  289.0000  \n",
              "density                0.99735    1.0032  \n",
              "pH                     3.38000    3.7800  \n",
              "sulphates              0.82000    1.3600  \n",
              "alcohol               12.20000   14.0000  "
            ],
            "text/html": [
              "\n",
              "  <div id=\"df-b385ebbf-5b89-4efc-a608-903400dde64c\" class=\"colab-df-container\">\n",
              "    <div>\n",
              "<style scoped>\n",
              "    .dataframe tbody tr th:only-of-type {\n",
              "        vertical-align: middle;\n",
              "    }\n",
              "\n",
              "    .dataframe tbody tr th {\n",
              "        vertical-align: top;\n",
              "    }\n",
              "\n",
              "    .dataframe thead th {\n",
              "        text-align: right;\n",
              "    }\n",
              "</style>\n",
              "<table border=\"1\" class=\"dataframe\">\n",
              "  <thead>\n",
              "    <tr style=\"text-align: right;\">\n",
              "      <th></th>\n",
              "      <th>count</th>\n",
              "      <th>mean</th>\n",
              "      <th>std</th>\n",
              "      <th>min</th>\n",
              "      <th>25%</th>\n",
              "      <th>50%</th>\n",
              "      <th>75%</th>\n",
              "      <th>max</th>\n",
              "    </tr>\n",
              "  </thead>\n",
              "  <tbody>\n",
              "    <tr>\n",
              "      <th>fixed acidity</th>\n",
              "      <td>217.0</td>\n",
              "      <td>8.847005</td>\n",
              "      <td>1.999977</td>\n",
              "      <td>4.90000</td>\n",
              "      <td>7.4000</td>\n",
              "      <td>8.70000</td>\n",
              "      <td>10.10000</td>\n",
              "      <td>15.6000</td>\n",
              "    </tr>\n",
              "    <tr>\n",
              "      <th>volatile acidity</th>\n",
              "      <td>217.0</td>\n",
              "      <td>0.405530</td>\n",
              "      <td>0.144963</td>\n",
              "      <td>0.12000</td>\n",
              "      <td>0.3000</td>\n",
              "      <td>0.37000</td>\n",
              "      <td>0.49000</td>\n",
              "      <td>0.9150</td>\n",
              "    </tr>\n",
              "    <tr>\n",
              "      <th>citric acid</th>\n",
              "      <td>217.0</td>\n",
              "      <td>0.376498</td>\n",
              "      <td>0.194438</td>\n",
              "      <td>0.00000</td>\n",
              "      <td>0.3000</td>\n",
              "      <td>0.40000</td>\n",
              "      <td>0.49000</td>\n",
              "      <td>0.7600</td>\n",
              "    </tr>\n",
              "    <tr>\n",
              "      <th>residual sugar</th>\n",
              "      <td>217.0</td>\n",
              "      <td>2.708756</td>\n",
              "      <td>1.363026</td>\n",
              "      <td>1.20000</td>\n",
              "      <td>2.0000</td>\n",
              "      <td>2.30000</td>\n",
              "      <td>2.70000</td>\n",
              "      <td>8.9000</td>\n",
              "    </tr>\n",
              "    <tr>\n",
              "      <th>chlorides</th>\n",
              "      <td>217.0</td>\n",
              "      <td>0.075912</td>\n",
              "      <td>0.028480</td>\n",
              "      <td>0.01200</td>\n",
              "      <td>0.0620</td>\n",
              "      <td>0.07300</td>\n",
              "      <td>0.08500</td>\n",
              "      <td>0.3580</td>\n",
              "    </tr>\n",
              "    <tr>\n",
              "      <th>free sulfur dioxide</th>\n",
              "      <td>217.0</td>\n",
              "      <td>13.981567</td>\n",
              "      <td>10.234615</td>\n",
              "      <td>3.00000</td>\n",
              "      <td>6.0000</td>\n",
              "      <td>11.00000</td>\n",
              "      <td>18.00000</td>\n",
              "      <td>54.0000</td>\n",
              "    </tr>\n",
              "    <tr>\n",
              "      <th>total sulfur dioxide</th>\n",
              "      <td>217.0</td>\n",
              "      <td>34.889401</td>\n",
              "      <td>32.572238</td>\n",
              "      <td>7.00000</td>\n",
              "      <td>17.0000</td>\n",
              "      <td>27.00000</td>\n",
              "      <td>43.00000</td>\n",
              "      <td>289.0000</td>\n",
              "    </tr>\n",
              "    <tr>\n",
              "      <th>density</th>\n",
              "      <td>217.0</td>\n",
              "      <td>0.996030</td>\n",
              "      <td>0.002201</td>\n",
              "      <td>0.99064</td>\n",
              "      <td>0.9947</td>\n",
              "      <td>0.99572</td>\n",
              "      <td>0.99735</td>\n",
              "      <td>1.0032</td>\n",
              "    </tr>\n",
              "    <tr>\n",
              "      <th>pH</th>\n",
              "      <td>217.0</td>\n",
              "      <td>3.288802</td>\n",
              "      <td>0.154478</td>\n",
              "      <td>2.88000</td>\n",
              "      <td>3.2000</td>\n",
              "      <td>3.27000</td>\n",
              "      <td>3.38000</td>\n",
              "      <td>3.7800</td>\n",
              "    </tr>\n",
              "    <tr>\n",
              "      <th>sulphates</th>\n",
              "      <td>217.0</td>\n",
              "      <td>0.743456</td>\n",
              "      <td>0.134038</td>\n",
              "      <td>0.39000</td>\n",
              "      <td>0.6500</td>\n",
              "      <td>0.74000</td>\n",
              "      <td>0.82000</td>\n",
              "      <td>1.3600</td>\n",
              "    </tr>\n",
              "    <tr>\n",
              "      <th>alcohol</th>\n",
              "      <td>217.0</td>\n",
              "      <td>11.518049</td>\n",
              "      <td>0.998153</td>\n",
              "      <td>9.20000</td>\n",
              "      <td>10.8000</td>\n",
              "      <td>11.60000</td>\n",
              "      <td>12.20000</td>\n",
              "      <td>14.0000</td>\n",
              "    </tr>\n",
              "  </tbody>\n",
              "</table>\n",
              "</div>\n",
              "    <div class=\"colab-df-buttons\">\n",
              "\n",
              "  <div class=\"colab-df-container\">\n",
              "    <button class=\"colab-df-convert\" onclick=\"convertToInteractive('df-b385ebbf-5b89-4efc-a608-903400dde64c')\"\n",
              "            title=\"Convert this dataframe to an interactive table.\"\n",
              "            style=\"display:none;\">\n",
              "\n",
              "  <svg xmlns=\"http://www.w3.org/2000/svg\" height=\"24px\" viewBox=\"0 -960 960 960\">\n",
              "    <path d=\"M120-120v-720h720v720H120Zm60-500h600v-160H180v160Zm220 220h160v-160H400v160Zm0 220h160v-160H400v160ZM180-400h160v-160H180v160Zm440 0h160v-160H620v160ZM180-180h160v-160H180v160Zm440 0h160v-160H620v160Z\"/>\n",
              "  </svg>\n",
              "    </button>\n",
              "\n",
              "  <style>\n",
              "    .colab-df-container {\n",
              "      display:flex;\n",
              "      gap: 12px;\n",
              "    }\n",
              "\n",
              "    .colab-df-convert {\n",
              "      background-color: #E8F0FE;\n",
              "      border: none;\n",
              "      border-radius: 50%;\n",
              "      cursor: pointer;\n",
              "      display: none;\n",
              "      fill: #1967D2;\n",
              "      height: 32px;\n",
              "      padding: 0 0 0 0;\n",
              "      width: 32px;\n",
              "    }\n",
              "\n",
              "    .colab-df-convert:hover {\n",
              "      background-color: #E2EBFA;\n",
              "      box-shadow: 0px 1px 2px rgba(60, 64, 67, 0.3), 0px 1px 3px 1px rgba(60, 64, 67, 0.15);\n",
              "      fill: #174EA6;\n",
              "    }\n",
              "\n",
              "    .colab-df-buttons div {\n",
              "      margin-bottom: 4px;\n",
              "    }\n",
              "\n",
              "    [theme=dark] .colab-df-convert {\n",
              "      background-color: #3B4455;\n",
              "      fill: #D2E3FC;\n",
              "    }\n",
              "\n",
              "    [theme=dark] .colab-df-convert:hover {\n",
              "      background-color: #434B5C;\n",
              "      box-shadow: 0px 1px 3px 1px rgba(0, 0, 0, 0.15);\n",
              "      filter: drop-shadow(0px 1px 2px rgba(0, 0, 0, 0.3));\n",
              "      fill: #FFFFFF;\n",
              "    }\n",
              "  </style>\n",
              "\n",
              "    <script>\n",
              "      const buttonEl =\n",
              "        document.querySelector('#df-b385ebbf-5b89-4efc-a608-903400dde64c button.colab-df-convert');\n",
              "      buttonEl.style.display =\n",
              "        google.colab.kernel.accessAllowed ? 'block' : 'none';\n",
              "\n",
              "      async function convertToInteractive(key) {\n",
              "        const element = document.querySelector('#df-b385ebbf-5b89-4efc-a608-903400dde64c');\n",
              "        const dataTable =\n",
              "          await google.colab.kernel.invokeFunction('convertToInteractive',\n",
              "                                                    [key], {});\n",
              "        if (!dataTable) return;\n",
              "\n",
              "        const docLinkHtml = 'Like what you see? Visit the ' +\n",
              "          '<a target=\"_blank\" href=https://colab.research.google.com/notebooks/data_table.ipynb>data table notebook</a>'\n",
              "          + ' to learn more about interactive tables.';\n",
              "        element.innerHTML = '';\n",
              "        dataTable['output_type'] = 'display_data';\n",
              "        await google.colab.output.renderOutput(dataTable, element);\n",
              "        const docLink = document.createElement('div');\n",
              "        docLink.innerHTML = docLinkHtml;\n",
              "        element.appendChild(docLink);\n",
              "      }\n",
              "    </script>\n",
              "  </div>\n",
              "\n",
              "\n",
              "<div id=\"df-1dc320da-ec43-4809-9885-0fcf926367ad\">\n",
              "  <button class=\"colab-df-quickchart\" onclick=\"quickchart('df-1dc320da-ec43-4809-9885-0fcf926367ad')\"\n",
              "            title=\"Suggest charts.\"\n",
              "            style=\"display:none;\">\n",
              "\n",
              "<svg xmlns=\"http://www.w3.org/2000/svg\" height=\"24px\"viewBox=\"0 0 24 24\"\n",
              "     width=\"24px\">\n",
              "    <g>\n",
              "        <path d=\"M19 3H5c-1.1 0-2 .9-2 2v14c0 1.1.9 2 2 2h14c1.1 0 2-.9 2-2V5c0-1.1-.9-2-2-2zM9 17H7v-7h2v7zm4 0h-2V7h2v10zm4 0h-2v-4h2v4z\"/>\n",
              "    </g>\n",
              "</svg>\n",
              "  </button>\n",
              "\n",
              "<style>\n",
              "  .colab-df-quickchart {\n",
              "      --bg-color: #E8F0FE;\n",
              "      --fill-color: #1967D2;\n",
              "      --hover-bg-color: #E2EBFA;\n",
              "      --hover-fill-color: #174EA6;\n",
              "      --disabled-fill-color: #AAA;\n",
              "      --disabled-bg-color: #DDD;\n",
              "  }\n",
              "\n",
              "  [theme=dark] .colab-df-quickchart {\n",
              "      --bg-color: #3B4455;\n",
              "      --fill-color: #D2E3FC;\n",
              "      --hover-bg-color: #434B5C;\n",
              "      --hover-fill-color: #FFFFFF;\n",
              "      --disabled-bg-color: #3B4455;\n",
              "      --disabled-fill-color: #666;\n",
              "  }\n",
              "\n",
              "  .colab-df-quickchart {\n",
              "    background-color: var(--bg-color);\n",
              "    border: none;\n",
              "    border-radius: 50%;\n",
              "    cursor: pointer;\n",
              "    display: none;\n",
              "    fill: var(--fill-color);\n",
              "    height: 32px;\n",
              "    padding: 0;\n",
              "    width: 32px;\n",
              "  }\n",
              "\n",
              "  .colab-df-quickchart:hover {\n",
              "    background-color: var(--hover-bg-color);\n",
              "    box-shadow: 0 1px 2px rgba(60, 64, 67, 0.3), 0 1px 3px 1px rgba(60, 64, 67, 0.15);\n",
              "    fill: var(--button-hover-fill-color);\n",
              "  }\n",
              "\n",
              "  .colab-df-quickchart-complete:disabled,\n",
              "  .colab-df-quickchart-complete:disabled:hover {\n",
              "    background-color: var(--disabled-bg-color);\n",
              "    fill: var(--disabled-fill-color);\n",
              "    box-shadow: none;\n",
              "  }\n",
              "\n",
              "  .colab-df-spinner {\n",
              "    border: 2px solid var(--fill-color);\n",
              "    border-color: transparent;\n",
              "    border-bottom-color: var(--fill-color);\n",
              "    animation:\n",
              "      spin 1s steps(1) infinite;\n",
              "  }\n",
              "\n",
              "  @keyframes spin {\n",
              "    0% {\n",
              "      border-color: transparent;\n",
              "      border-bottom-color: var(--fill-color);\n",
              "      border-left-color: var(--fill-color);\n",
              "    }\n",
              "    20% {\n",
              "      border-color: transparent;\n",
              "      border-left-color: var(--fill-color);\n",
              "      border-top-color: var(--fill-color);\n",
              "    }\n",
              "    30% {\n",
              "      border-color: transparent;\n",
              "      border-left-color: var(--fill-color);\n",
              "      border-top-color: var(--fill-color);\n",
              "      border-right-color: var(--fill-color);\n",
              "    }\n",
              "    40% {\n",
              "      border-color: transparent;\n",
              "      border-right-color: var(--fill-color);\n",
              "      border-top-color: var(--fill-color);\n",
              "    }\n",
              "    60% {\n",
              "      border-color: transparent;\n",
              "      border-right-color: var(--fill-color);\n",
              "    }\n",
              "    80% {\n",
              "      border-color: transparent;\n",
              "      border-right-color: var(--fill-color);\n",
              "      border-bottom-color: var(--fill-color);\n",
              "    }\n",
              "    90% {\n",
              "      border-color: transparent;\n",
              "      border-bottom-color: var(--fill-color);\n",
              "    }\n",
              "  }\n",
              "</style>\n",
              "\n",
              "  <script>\n",
              "    async function quickchart(key) {\n",
              "      const quickchartButtonEl =\n",
              "        document.querySelector('#' + key + ' button');\n",
              "      quickchartButtonEl.disabled = true;  // To prevent multiple clicks.\n",
              "      quickchartButtonEl.classList.add('colab-df-spinner');\n",
              "      try {\n",
              "        const charts = await google.colab.kernel.invokeFunction(\n",
              "            'suggestCharts', [key], {});\n",
              "      } catch (error) {\n",
              "        console.error('Error during call to suggestCharts:', error);\n",
              "      }\n",
              "      quickchartButtonEl.classList.remove('colab-df-spinner');\n",
              "      quickchartButtonEl.classList.add('colab-df-quickchart-complete');\n",
              "    }\n",
              "    (() => {\n",
              "      let quickchartButtonEl =\n",
              "        document.querySelector('#df-1dc320da-ec43-4809-9885-0fcf926367ad button');\n",
              "      quickchartButtonEl.style.display =\n",
              "        google.colab.kernel.accessAllowed ? 'block' : 'none';\n",
              "    })();\n",
              "  </script>\n",
              "</div>\n",
              "    </div>\n",
              "  </div>\n"
            ]
          },
          "metadata": {},
          "execution_count": 30
        }
      ]
    },
    {
      "cell_type": "markdown",
      "source": [
        "## Modelagem"
      ],
      "metadata": {
        "id": "3AEX4vaaBfnA"
      }
    },
    {
      "cell_type": "markdown",
      "source": [
        "Separar os dados para o treinamento dos modelos:"
      ],
      "metadata": {
        "id": "-bZFBLtyT9t6"
      }
    },
    {
      "cell_type": "code",
      "source": [
        "# nossos dados sem a qualidade (sem a variável resposta)\n",
        "x = wine.drop('quality', axis = 1)\n",
        "# nossa variavel resposta\n",
        "y = wine['quality']\n",
        "\n",
        "# Separando os dados para o treino\n",
        "from sklearn.model_selection import train_test_split\n",
        "x_train, x_test, y_train, y_test = train_test_split(x, y, test_size = 0.25, random_state=40)"
      ],
      "metadata": {
        "id": "7FwpNon6JkAS"
      },
      "execution_count": 32,
      "outputs": []
    },
    {
      "cell_type": "code",
      "source": [
        "# Quantos dados de treino temos\n",
        "x_train.shape"
      ],
      "metadata": {
        "colab": {
          "base_uri": "https://localhost:8080/"
        },
        "id": "kWSNs1HtWE0z",
        "outputId": "38d72da3-0c59-4e7b-cab0-1b4234a1ea14"
      },
      "execution_count": 33,
      "outputs": [
        {
          "output_type": "execute_result",
          "data": {
            "text/plain": [
              "(1199, 11)"
            ]
          },
          "metadata": {},
          "execution_count": 33
        }
      ]
    },
    {
      "cell_type": "markdown",
      "source": [
        "### Treinar o modelo de árvore de decisão:"
      ],
      "metadata": {
        "id": "GZgGagYl9_lm"
      }
    },
    {
      "cell_type": "code",
      "source": [
        "from sklearn.tree import DecisionTreeClassifier\n",
        "from sklearn.tree import DecisionTreeRegressor\n",
        "model_dtc = DecisionTreeClassifier()\n",
        "model_dtc = model_dtc.fit(x_train, y_train)"
      ],
      "metadata": {
        "id": "fB6nqBRQKK6s"
      },
      "execution_count": 34,
      "outputs": []
    },
    {
      "cell_type": "markdown",
      "source": [
        "Avaliar a capacidade de generalização, ou seja, avalivar as predições nos dados \"não vistos\" na etapa de treino (utilizar os dados de teste)"
      ],
      "metadata": {
        "id": "g3vYwlG2BnCZ"
      }
    },
    {
      "cell_type": "code",
      "source": [
        "predicao_dtc = model_dtc.predict(x_test)"
      ],
      "metadata": {
        "id": "ZOhr9DP6BsQk"
      },
      "execution_count": 36,
      "outputs": []
    },
    {
      "cell_type": "code",
      "source": [
        "predicao_dtc[0:5]"
      ],
      "metadata": {
        "colab": {
          "base_uri": "https://localhost:8080/"
        },
        "id": "3IOD_AV9CWoz",
        "outputId": "b394bcc2-308b-4b27-dc18-16a2d8de147a"
      },
      "execution_count": 37,
      "outputs": [
        {
          "output_type": "execute_result",
          "data": {
            "text/plain": [
              "array(['excelente', 'bom', 'bom', 'bom', 'bom'], dtype=object)"
            ]
          },
          "metadata": {},
          "execution_count": 37
        }
      ]
    },
    {
      "cell_type": "markdown",
      "source": [
        "Vamos ver quais são as qualidades antes atribuídas:"
      ],
      "metadata": {
        "id": "vuYZtVveC-mP"
      }
    },
    {
      "cell_type": "code",
      "source": [
        "y_test[0:5]"
      ],
      "metadata": {
        "colab": {
          "base_uri": "https://localhost:8080/"
        },
        "id": "krcR3WziEBvJ",
        "outputId": "7b980c98-b94c-4f9a-ab09-52d2483a7be9"
      },
      "execution_count": 57,
      "outputs": [
        {
          "output_type": "execute_result",
          "data": {
            "text/plain": [
              "1035    excelente\n",
              "49            bom\n",
              "799           bom\n",
              "538     excelente\n",
              "660           bom\n",
              "Name: quality, dtype: category\n",
              "Categories (3, object): ['ruim' < 'bom' < 'excelente']"
            ]
          },
          "metadata": {},
          "execution_count": 57
        }
      ]
    },
    {
      "cell_type": "markdown",
      "source": [
        "Verificar através da matriz de confusão (a soma dos elementos da diagonal princial da matriz apresenta a quantidade de classes corretamente classificadas) e também através da Acurácia"
      ],
      "metadata": {
        "id": "1gDzYDifIg-C"
      }
    },
    {
      "cell_type": "code",
      "source": [
        "from sklearn.metrics import confusion_matrix\n",
        "from sklearn.metrics import accuracy_score\n",
        "\n",
        "#print confusion matrix and accuracy score\n",
        "dt_conf_matrix = confusion_matrix(y_test, predicao_dtc)\n",
        "dt_acc_score = accuracy_score(y_test, predicao_dtc)\n",
        "print(dt_conf_matrix)\n",
        "print(dt_acc_score*100)"
      ],
      "metadata": {
        "colab": {
          "base_uri": "https://localhost:8080/"
        },
        "id": "yOAfDCaxGq3V",
        "outputId": "6a5022c2-a860-4461-dbd6-8e23ea7d189e"
      },
      "execution_count": 39,
      "outputs": [
        {
          "output_type": "stream",
          "name": "stdout",
          "text": [
            "[[290  21  13]\n",
            " [ 20  41   0]\n",
            " [ 11   0   4]]\n",
            "83.75\n"
          ]
        }
      ]
    },
    {
      "cell_type": "markdown",
      "source": [
        "De acordo com nosso modelo de arvore de decisão, temos 83% de acerto"
      ],
      "metadata": {
        "id": "-LRX2qnrqqAy"
      }
    },
    {
      "cell_type": "markdown",
      "source": [
        "### Treinar o modelo Naive Bailes:"
      ],
      "metadata": {
        "id": "llZ3orbmsXyJ"
      }
    },
    {
      "cell_type": "code",
      "source": [
        "from sklearn.naive_bayes import GaussianNB\n",
        "model_nb = GaussianNB()\n",
        "model_nb.fit(x_train,y_train)\n",
        "predicao_nb = model_nb.predict(x_test)\n",
        "\n",
        "predicao_nb[0:5]"
      ],
      "metadata": {
        "colab": {
          "base_uri": "https://localhost:8080/"
        },
        "id": "Ieg5M3dmvEKH",
        "outputId": "2a86f82a-3905-4906-d0c0-4df543b94612"
      },
      "execution_count": 56,
      "outputs": [
        {
          "output_type": "execute_result",
          "data": {
            "text/plain": [
              "array(['excelente', 'bom', 'bom', 'excelente', 'bom'], dtype='<U9')"
            ]
          },
          "metadata": {},
          "execution_count": 56
        }
      ]
    },
    {
      "cell_type": "code",
      "source": [
        "y_test[0:5]"
      ],
      "metadata": {
        "colab": {
          "base_uri": "https://localhost:8080/"
        },
        "id": "AKjobjd0vOnr",
        "outputId": "c558f34d-395d-40cb-d61d-b6f7233e9720"
      },
      "execution_count": 60,
      "outputs": [
        {
          "output_type": "execute_result",
          "data": {
            "text/plain": [
              "1035    excelente\n",
              "49            bom\n",
              "799           bom\n",
              "538     excelente\n",
              "660           bom\n",
              "Name: quality, dtype: category\n",
              "Categories (3, object): ['ruim' < 'bom' < 'excelente']"
            ]
          },
          "metadata": {},
          "execution_count": 60
        }
      ]
    },
    {
      "cell_type": "code",
      "source": [
        "#print confusion matrix and accuracy score\n",
        "nb_conf_matrix = confusion_matrix(y_test, predicao_nb)\n",
        "nb_acc_score = accuracy_score(y_test, predicao_nb)\n",
        "print(nb_conf_matrix)\n",
        "print(nb_acc_score*100)\n",
        "\n"
      ],
      "metadata": {
        "colab": {
          "base_uri": "https://localhost:8080/"
        },
        "id": "63lLsskGtD1h",
        "outputId": "1f9e4714-f67c-4abd-ec5f-7ebb12eecac4"
      },
      "execution_count": 59,
      "outputs": [
        {
          "output_type": "stream",
          "name": "stdout",
          "text": [
            "[[265  49  10]\n",
            " [ 19  41   1]\n",
            " [ 12   0   3]]\n",
            "77.25\n"
          ]
        }
      ]
    },
    {
      "cell_type": "markdown",
      "source": [
        "O método Naive Bales apesar de ter acertado os nossos dados de amostra, se mostrou menos eficiente no geral."
      ],
      "metadata": {
        "id": "Uw20MdMzw3FY"
      }
    },
    {
      "cell_type": "markdown",
      "source": [
        "### Treinar o modelo Random Forest:"
      ],
      "metadata": {
        "id": "Aa_O0F26xEMo"
      }
    },
    {
      "cell_type": "code",
      "source": [
        "from sklearn.ensemble import RandomForestClassifier\n",
        "model_rf = RandomForestClassifier()\n",
        "model_rf.fit(x_train, y_train)\n",
        "predicao_rf = model_rf.predict(x_test)"
      ],
      "metadata": {
        "id": "9n5x3c1HuJGQ"
      },
      "execution_count": 64,
      "outputs": []
    },
    {
      "cell_type": "code",
      "source": [
        "#print confusion matrix and accuracy score\n",
        "rf_conf_matrix = confusion_matrix(y_test, predicao_rf)\n",
        "rf_acc_score = accuracy_score(y_test, predicao_rf)\n",
        "print(rf_conf_matrix)\n",
        "print(rf_acc_score*100)"
      ],
      "metadata": {
        "colab": {
          "base_uri": "https://localhost:8080/"
        },
        "id": "eCZCPxfzxbTK",
        "outputId": "315c4501-c43b-483d-e265-a0d44e6a20a2"
      },
      "execution_count": 65,
      "outputs": [
        {
          "output_type": "stream",
          "name": "stdout",
          "text": [
            "[[313  11   0]\n",
            " [ 29  32   0]\n",
            " [ 15   0   0]]\n",
            "86.25\n"
          ]
        }
      ]
    },
    {
      "cell_type": "markdown",
      "source": [
        "O método Random Forest se mostrou o mais eficiente dos métodos que utilizamos"
      ],
      "metadata": {
        "id": "rw3hziv7yMML"
      }
    },
    {
      "cell_type": "markdown",
      "source": [
        "## Conclusões"
      ],
      "metadata": {
        "id": "1IdWB25QCTnb"
      }
    },
    {
      "cell_type": "markdown",
      "source": [
        "Na análise dos dados do Red Wine Quality, criei três modelos de aprendizado de máquina: Árvore de Decisão, Naive Bayes e Random Forest. Cada um desses modelos foi desenvolvido com a finalidade de avaliar e prever a qualidade do vinho tinto com base nos dados disponíveis.\n",
        "\n",
        "Como conclusão, é importante destacar os resultados obtidos com cada modelo, comparando seu desempenho em termos de acurácia. Cosntatou-se que o Random Forest se mostrou mais preciso, portanto, o\n",
        "mais adequado para este caso.\n",
        "\n"
      ],
      "metadata": {
        "id": "zZAtujrbC3s-"
      }
    }
  ]
}